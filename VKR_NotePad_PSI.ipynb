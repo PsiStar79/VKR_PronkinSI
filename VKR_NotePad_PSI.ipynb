{
 "cells": [
  {
   "cell_type": "markdown",
   "id": "c9eac0cb",
   "metadata": {
    "id": "c9eac0cb"
   },
   "source": [
    "# ВКР по курсу «Data Science PRO» Пронкин Сергей Игоревич"
   ]
  },
  {
   "cell_type": "markdown",
   "id": "310f82c1",
   "metadata": {
    "id": "310f82c1"
   },
   "source": [
    "ОПИСАНИЕ ЗАДАНИЯ:\n",
    "* В ходе выполнения ВКР требуется сделать:\n",
    "* Изучить теоретические основы и методы решения поставленной задачи.\n",
    "* Провести разведочный анализ предложенных данных. Необходимо нарисовать гистограммы распределения каждой из переменной, диаграммы ящика с усами, попарные графики рассеяния точек. Необходимо также для каждой колонке получить среднее, медианное значение, провести анализ и исключение выбросов, проверить наличие пропусков.\n",
    "* Провести предобработку данных (удаление шумов, нормализация и т.д.).\n",
    "* Обучить нескольких моделей для прогноза модуля упругости при растяжении и прочности при растяжении. При построении модели необходимо 30% данных оставить на тестирование модели, на остальных происходит обучение моделей. При построении моделей провести поиск гиперпараметров модели с помощью поиска по сетке с перекрестной проверкой, количество блоков равно 10.\n",
    "* Написать нейронную сеть, которая будет рекомендовать соотношение матрица-наполнитель. \n",
    "* Разработать приложение с графическим интерфейсом или интерфейсом командной строки, которое будет выдавать прогноз, полученный в задании 4 или 5 (один или два прогноза, на выбор учащегося).\n",
    "* Оценить точность модели на тренировочном и тестовом датасете. \n",
    "* Создать репозиторий в GitHub и разместить там код исследования. \n",
    "* Оформить файл README."
   ]
  },
  {
   "cell_type": "markdown",
   "id": "c3d6a5d4",
   "metadata": {
    "id": "c3d6a5d4"
   },
   "source": [
    "## ТЕОРЕТИЧЕСКАЯ ОСНОВА"
   ]
  },
  {
   "cell_type": "markdown",
   "id": "502078fd",
   "metadata": {
    "id": "502078fd"
   },
   "source": [
    "> Тема: Прогнозирование конечных свойств новых материалов (композиционных материалов).\n",
    "> \n",
    "> Описание: \n",
    "> Композиционные материалы — это искусственно созданные материалы, состоящие из нескольких других с четкой границей между ними. \n",
    "> \n",
    "> При этом композиты являются монолитным материалом, т. е. компоненты материала неотделимы друг от друга без разрушения конструкции в целом. \n",
    "> \n",
    "> Их свойства определяются входящими в них компонентами, но отличаются от свойств компонентов, взятых в отдельности.\n",
    "> \n",
    "> Композиционные материалы состоят из матрицы (основы) и наполнителя.\n",
    "> \n",
    "> Матрица связывает композицию и в большей степени определяет технологические режимы получения материала и его эксплуатационные характеристики: рабочую температуру, плотность, удельную прочность, предел усталости.\n",
    "> \n",
    "> Наполнитель, как правило, имеет высокие значения прочности, твердости и модуля упругости — значительно большие, чем показатели матрицы. Поэтому наполнитель является армирующим или упрочняющим элементом.\n",
    "> \n",
    "> Композиты обладают теми свойствами, которые не наблюдаются у компонентов по отдельности. \n",
    "> \n",
    "> Даже если мы знаем характеристики исходных компонентов, определить характеристики композита, состоящего из этих компонентов, достаточно проблематично. Для решения этой проблемы есть два пути: физические испытания образцов материалов, или прогнозирование характеристик. Суть прогнозирования заключается в симуляции представительного элемента объема композита, на основе данных о характеристиках входящих компонентов (связующего и армирующего компонента). Созданные прогнозные модели помогут сократить количество проводимых испытаний, а также пополнить базу данных материалов возможными новыми характеристиками материалов, и цифровыми двойниками новых композитов.\n",
    "> \n",
    "> Кейс основан на реальных производственных задачах Центра НТИ «Цифровое материаловедение: новые материалы и вещества» (структурное подразделение МГТУ им. Н.Э. Баумана)."
   ]
  },
  {
   "cell_type": "markdown",
   "id": "000b4ea8",
   "metadata": {
    "id": "000b4ea8"
   },
   "source": [
    "## РАЗВЕДКА ДАННЫХ\n",
    "\n",
    "В этом разделе необходимо:\n",
    "* нарисовать гистограммы распределения каждой из переменной; \n",
    "* диаграммы ящика с усами;\n",
    "* попарные графики рассеяния точек;\n",
    "* для каждой колонке получить среднее, медианное значение;\n",
    "* провести анализ и исключение выбросов;\n",
    "* проверить наличие пропусков."
   ]
  },
  {
   "cell_type": "markdown",
   "id": "601de8bd",
   "metadata": {
    "id": "601de8bd"
   },
   "source": [
    "> Имеется датасет со свойствами композита. Рассматривается базальтопластик с нашивками из углепластика.\n",
    ">\n",
    "> На входе имеются данные о начальных свойствах компонентов композиционных материалов (количество связующего, наполнителя, температурный режим отверждения и т.д.). \n",
    ">\n",
    "> На выходе необходимо спрогнозировать ряд конечных свойств получаемых композиционных материалов.\n",
    ">\n",
    "> Датасет состоит из двух файлов - X_bp (составляющая из базальтопластика) и Х_nup (составляющая из углепластика). Дано, что объединение делать по индексу тип объединения INNER."
   ]
  },
  {
   "cell_type": "code",
   "execution_count": 1,
   "id": "GHiIGmnlsfBF",
   "metadata": {
    "colab": {
     "base_uri": "https://localhost:8080/"
    },
    "id": "GHiIGmnlsfBF",
    "outputId": "a0947dfa-62b6-4257-a798-d0398e0e139e"
   },
   "outputs": [
    {
     "name": "stdout",
     "output_type": "stream",
     "text": [
      "Mounted at /content/drive/\n"
     ]
    }
   ],
   "source": [
    "# Подключаю доступ к файлам данных для гугл драйв\n",
    "# from google.colab import drive\n",
    "# drive.mount('/content/drive/')"
   ]
  },
  {
   "cell_type": "code",
   "execution_count": 2,
   "id": "OTFwufosKnD2",
   "metadata": {
    "id": "OTFwufosKnD2"
   },
   "outputs": [],
   "source": [
    "# Пути для гугл драйв\n",
    "# nb_path = '/content/drive/MyDrive/Colab Notebooks/'\n",
    "# data_path = '/content/drive/MyDrive/Colab Notebooks/data/'\n",
    "# models_path = '/content/drive/MyDrive/Colab Notebooks/models/'"
   ]
  },
  {
   "cell_type": "code",
   "execution_count": 3,
   "id": "DAmqiW9m2Ib9",
   "metadata": {
    "id": "DAmqiW9m2Ib9"
   },
   "outputs": [],
   "source": [
    "# Пути для локального запуска\n",
    "nb_path = ''\n",
    "data_path = '../data/'\n",
    "models_path = '../models/'"
   ]
  },
  {
   "cell_type": "code",
   "execution_count": 4,
   "id": "da3be3df",
   "metadata": {
    "id": "da3be3df"
   },
   "outputs": [],
   "source": [
    "# Импортирую необходимые библиотеки\n",
    "import numpy as np\n",
    "import pandas as pd\n",
    "import matplotlib.pyplot as plt\n",
    "import seaborn as sns\n",
    "from sklearn.preprocessing import OrdinalEncoder\n",
    "from sklearn.preprocessing import StandardScaler\n",
    "from sklearn.compose import ColumnTransformer\n",
    "from sklearn.model_selection import train_test_split\n",
    "from sklearn.model_selection import KFold\n",
    "from sklearn.model_selection import cross_val_score, cross_validate\n",
    "from sklearn.model_selection import GridSearchCV\n",
    "from sklearn.base import BaseEstimator\n",
    "from sklearn.dummy import DummyRegressor\n",
    "from sklearn.linear_model import LinearRegression\n",
    "from sklearn.linear_model import Ridge\n",
    "from sklearn.linear_model import Lasso\n",
    "from sklearn.svm import SVR\n",
    "from sklearn.neighbors import KNeighborsRegressor\n",
    "from sklearn.tree import DecisionTreeRegressor\n",
    "from sklearn.ensemble import RandomForestRegressor\n",
    "from sklearn.ensemble import GradientBoostingRegressor\n",
    "from sklearn import metrics\n",
    "import pickle"
   ]
  },
  {
   "cell_type": "code",
   "execution_count": 37,
   "id": "0BpGzaYTRdIa",
   "metadata": {
    "colab": {
     "base_uri": "https://localhost:8080/"
    },
    "id": "0BpGzaYTRdIa",
    "outputId": "e20197dd-7d18-4e00-c9b2-7b1c8e717352"
   },
   "outputs": [
    {
     "name": "stdout",
     "output_type": "stream",
     "text": [
      "2.8.0\n"
     ]
    }
   ],
   "source": [
    "# Импорт библиотеки TensorFlow\n",
    "import tensorflow as tf\n",
    "from tensorflow import keras\n"
   ]
  },
  {
   "cell_type": "code",
   "execution_count": 1,
   "id": "c9188f69",
   "metadata": {},
   "outputs": [
    {
     "ename": "NameError",
     "evalue": "name 'tf' is not defined",
     "output_type": "error",
     "traceback": [
      "\u001b[1;31m---------------------------------------------------------------------------\u001b[0m",
      "\u001b[1;31mNameError\u001b[0m                                 Traceback (most recent call last)",
      "Cell \u001b[1;32mIn[1], line 1\u001b[0m\n\u001b[1;32m----> 1\u001b[0m \u001b[38;5;28mprint\u001b[39m(\u001b[43mtf\u001b[49m\u001b[38;5;241m.\u001b[39m__version__)\n",
      "\u001b[1;31mNameError\u001b[0m: name 'tf' is not defined"
     ]
    }
   ],
   "source": [
    "# Проверка версии библиотеки\n",
    "print(tf.__version__) "
   ]
  },
  {
   "cell_type": "code",
   "execution_count": 5,
   "id": "2d88920d",
   "metadata": {
    "id": "2d88920d"
   },
   "outputs": [],
   "source": [
    "# Определяю RANDOM_STATE для повторяемости результатов\n",
    "RANDOM_STATE = 1809"
   ]
  },
  {
   "cell_type": "code",
   "execution_count": 41,
   "id": "9fa5a77c",
   "metadata": {
    "colab": {
     "base_uri": "https://localhost:8080/"
    },
    "id": "9fa5a77c",
    "outputId": "ff07a1e3-0c49-4604-ae29-b96fbae1aa03"
   },
   "outputs": [
    {
     "data": {
      "text/plain": [
       "(1023, 10)"
      ]
     },
     "execution_count": 41,
     "metadata": {},
     "output_type": "execute_result"
    }
   ],
   "source": [
    "# Загрузка исходные данные из файла X_bp\n",
    "X_bp = pd.read_excel(data_path + 'X_bp.xlsx', index_col=0)\n",
    "X_bp.shape"
   ]
  },
  {
   "cell_type": "code",
   "execution_count": 42,
   "id": "4d704368",
   "metadata": {
    "colab": {
     "base_uri": "https://localhost:8080/"
    },
    "id": "4d704368",
    "outputId": "4e01f2e7-dfc8-4233-dce0-8f4bb668d442"
   },
   "outputs": [
    {
     "data": {
      "text/plain": [
       "(1040, 3)"
      ]
     },
     "execution_count": 42,
     "metadata": {},
     "output_type": "execute_result"
    }
   ],
   "source": [
    "# Загрузка исходные данные из файла X_nup\n",
    "X_nup = pd.read_excel(data_path + 'X_nup.xlsx', index_col=0)\n",
    "X_nup.shape"
   ]
  },
  {
   "cell_type": "markdown",
   "id": "vlnCU_55dN3y",
   "metadata": {
    "id": "vlnCU_55dN3y"
   },
   "source": [
    "X_bp содержит индекс + 10 признаков и 1023 строк.\n",
    "\n",
    "X_nup содержит индекс + 3 признака и 1040 строк"
   ]
  }
 ],
 "metadata": {
  "colab": {
   "collapsed_sections": [],
   "name": "research.ipynb",
   "provenance": [],
   "toc_visible": true
  },
  "kernelspec": {
   "display_name": "Python 3",
   "language": "python",
   "name": "python3"
  },
  "language_info": {
   "codemirror_mode": {
    "name": "ipython",
    "version": 3
   },
   "file_extension": ".py",
   "mimetype": "text/x-python",
   "name": "python",
   "nbconvert_exporter": "python",
   "pygments_lexer": "ipython3",
   "version": "3.12.7"
  }
 },
 "nbformat": 4,
 "nbformat_minor": 5
}
